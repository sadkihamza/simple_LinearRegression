{
 "cells": [
  {
   "cell_type": "markdown",
   "id": "81b4b06f-fcd0-440f-a16b-bdd456c6d113",
   "metadata": {},
   "source": [
    "### Example du modèle linear regression"
   ]
  },
  {
   "cell_type": "code",
   "execution_count": null,
   "id": "64ecd0b8",
   "metadata": {},
   "outputs": [],
   "source": []
  },
  {
   "cell_type": "code",
   "execution_count": 1,
   "id": "18a4b5bc-00f9-4b4d-828e-9effc4187f2c",
   "metadata": {},
   "outputs": [],
   "source": [
    "import numpy as np \n",
    "import matplotlib.pyplot as plt\n",
    "from sklearn.linear_model import LinearRegression\n",
    "from sklearn.model_selection import train_test_split\n",
    "from sklearn.metrics import mean_squared_error"
   ]
  },
  {
   "cell_type": "code",
   "execution_count": 2,
   "id": "d76d8858-9c8b-43bc-baa4-58f5ca786c16",
   "metadata": {},
   "outputs": [],
   "source": [
    "np.random.seed(0)\n",
    "X=2*np.random.rand(1000,1)\n",
    "Y=1+4*X+np.random.randn(1000,1)"
   ]
  },
  {
   "cell_type": "code",
   "execution_count": 3,
   "id": "e547bb90-7834-4fe2-bdd7-21533abd22a7",
   "metadata": {},
   "outputs": [
    {
     "data": {
      "text/plain": [
       "array([[1.09762701],\n",
       "       [1.43037873],\n",
       "       [1.20552675],\n",
       "       [1.08976637],\n",
       "       [0.8473096 ],\n",
       "       [1.29178823],\n",
       "       [0.87517442],\n",
       "       [1.783546  ],\n",
       "       [1.92732552],\n",
       "       [0.76688304]])"
      ]
     },
     "execution_count": 3,
     "metadata": {},
     "output_type": "execute_result"
    }
   ],
   "source": [
    "X[:10]"
   ]
  },
  {
   "cell_type": "code",
   "execution_count": 4,
   "id": "c7078f36-ba20-44c7-b481-a431214a14f6",
   "metadata": {},
   "outputs": [
    {
     "data": {
      "text/plain": [
       "array([[5.28881076],\n",
       "       [6.74079432],\n",
       "       [7.67169826],\n",
       "       [5.14489881],\n",
       "       [3.89022176],\n",
       "       [6.18850413],\n",
       "       [3.58158425],\n",
       "       [8.32693786],\n",
       "       [8.34424687],\n",
       "       [2.2762046 ]])"
      ]
     },
     "execution_count": 4,
     "metadata": {},
     "output_type": "execute_result"
    }
   ],
   "source": [
    "Y[:10]\n"
   ]
  },
  {
   "cell_type": "code",
   "execution_count": 5,
   "id": "d1662d14-9245-44bd-8688-9c21277a36fb",
   "metadata": {},
   "outputs": [],
   "source": [
    "from sklearn.preprocessing import StandardScaler\n",
    "scaler=StandardScaler()\n",
    "X_scaled = scaler.fit_transform(X)"
   ]
  },
  {
   "cell_type": "code",
   "execution_count": 6,
   "id": "25a2ee80-30ec-413b-bb25-e526811128cf",
   "metadata": {},
   "outputs": [
    {
     "data": {
      "text/plain": [
       "array([[ 0.18201026],\n",
       "       [ 0.75453787],\n",
       "       [ 0.36766093],\n",
       "       [ 0.16848535],\n",
       "       [-0.24868212],\n",
       "       [ 0.51608113],\n",
       "       [-0.20073832],\n",
       "       [ 1.36219217],\n",
       "       [ 1.60957705],\n",
       "       [-0.38706285]])"
      ]
     },
     "execution_count": 6,
     "metadata": {},
     "output_type": "execute_result"
    }
   ],
   "source": [
    "X_scaled[:10]"
   ]
  },
  {
   "cell_type": "code",
   "execution_count": 7,
   "id": "1a20e818-9bd8-4e4a-80c2-e14b9099f525",
   "metadata": {},
   "outputs": [],
   "source": [
    "X_train,X_test,Y_train,Y_test= train_test_split(X_scaled,Y,test_size=0.2,random_state=0)"
   ]
  },
  {
   "cell_type": "code",
   "execution_count": 8,
   "id": "3f9f47df-b96c-4fdc-b7fc-617ae22e1df9",
   "metadata": {},
   "outputs": [
    {
     "data": {
      "text/plain": [
       "(800, 1)"
      ]
     },
     "execution_count": 8,
     "metadata": {},
     "output_type": "execute_result"
    }
   ],
   "source": [
    "X_train.shape"
   ]
  },
  {
   "cell_type": "code",
   "execution_count": 9,
   "id": "2c7bc3c5-0895-4cdd-891f-03c68c923fcb",
   "metadata": {},
   "outputs": [
    {
     "data": {
      "text/plain": [
       "(200, 1)"
      ]
     },
     "execution_count": 9,
     "metadata": {},
     "output_type": "execute_result"
    }
   ],
   "source": [
    "X_test.shape"
   ]
  },
  {
   "cell_type": "code",
   "execution_count": 10,
   "id": "00df91da-0c11-442f-b724-a9d3d1fd2abb",
   "metadata": {},
   "outputs": [
    {
     "data": {
      "text/plain": [
       "(800, 1)"
      ]
     },
     "execution_count": 10,
     "metadata": {},
     "output_type": "execute_result"
    }
   ],
   "source": [
    "Y_train.shape"
   ]
  },
  {
   "cell_type": "code",
   "execution_count": 11,
   "id": "060edb76-81f6-4116-85c2-4563bfb0aa26",
   "metadata": {},
   "outputs": [
    {
     "data": {
      "text/plain": [
       "(200, 1)"
      ]
     },
     "execution_count": 11,
     "metadata": {},
     "output_type": "execute_result"
    }
   ],
   "source": [
    "Y_test.shape"
   ]
  },
  {
   "cell_type": "code",
   "execution_count": 12,
   "id": "38840bfb-3dbb-455e-99df-6d557a958016",
   "metadata": {},
   "outputs": [],
   "source": [
    "model= LinearRegression()\n",
    "model.fit(X_train,Y_train)\n",
    "Y_predic = model.predict(X_test)"
   ]
  },
  {
   "cell_type": "code",
   "execution_count": 13,
   "id": "ea1d3bcd-cac6-48d5-82bf-9210af46cabc",
   "metadata": {},
   "outputs": [
    {
     "data": {
      "text/plain": [
       "array([[5.08110659],\n",
       "       [3.91531003],\n",
       "       [8.75552076],\n",
       "       [5.18430423],\n",
       "       [5.92994107],\n",
       "       [2.47650285],\n",
       "       [8.53279177],\n",
       "       [2.76673523],\n",
       "       [2.12951187],\n",
       "       [3.1745593 ]])"
      ]
     },
     "execution_count": 13,
     "metadata": {},
     "output_type": "execute_result"
    }
   ],
   "source": [
    "Y_predic[:10]"
   ]
  },
  {
   "cell_type": "code",
   "execution_count": 14,
   "id": "92778adb-193f-4aa1-b33d-5172b96348e3",
   "metadata": {},
   "outputs": [
    {
     "data": {
      "text/plain": [
       "array([[4.16893719],\n",
       "       [3.42512597],\n",
       "       [8.88173382],\n",
       "       [3.86223934],\n",
       "       [6.32287869],\n",
       "       [1.93470884],\n",
       "       [9.8698217 ],\n",
       "       [2.80068812],\n",
       "       [1.99826303],\n",
       "       [3.40510819]])"
      ]
     },
     "execution_count": 14,
     "metadata": {},
     "output_type": "execute_result"
    }
   ],
   "source": [
    "Y_test[:10]"
   ]
  },
  {
   "cell_type": "code",
   "execution_count": 15,
   "id": "08fa2d36-47e3-4e86-a7d0-3c9b3f7eb43f",
   "metadata": {},
   "outputs": [
    {
     "name": "stdout",
     "output_type": "stream",
     "text": [
      "MEAN SQUARED ERROR =0.9486955238478688\n"
     ]
    }
   ],
   "source": [
    "MSE=mean_squared_error(Y_test,Y_predic)\n",
    "print(f\"MEAN SQUARED ERROR ={MSE}\")"
   ]
  },
  {
   "cell_type": "code",
   "execution_count": 16,
   "id": "b73fc396-bc1c-4608-b1b6-043afb7a6377",
   "metadata": {},
   "outputs": [
    {
     "data": {
      "image/png": "[encoded data removed]",
      "text/plain": [
       "<Figure size 640x480 with 1 Axes>"
      ]
     },
     "metadata": {},
     "output_type": "display_data"
    }
   ],
   "source": [
    "plt.scatter(X_train,Y_train,color='blue',label=\"training data\")\n",
    "plt.scatter(X_test,Y_test,color='red',label=\"testing data\")\n",
    "plt.plot(X_test,Y_predic,color=\"yellow\",linewidth=2,label=\"regression line\")\n",
    "plt.xlabel(\"X\")\n",
    "plt.ylabel(\"Y\")\n",
    "plt.legend()\n",
    "plt.title(\"Linear Regression Example\")\n",
    "plt.show()\n",
    "\n"
   ]
  },
  {
   "cell_type": "code",
   "execution_count": null,
   "id": "6aa51767-2081-4362-8f26-097e67085f59",
   "metadata": {},
   "outputs": [],
   "source": []
  }
 ],
 "metadata": {
  "kernelspec": {
   "display_name": "base",
   "language": "python",
   "name": "python3"
  },
  "language_info": {
   "codemirror_mode": {
    "name": "ipython",
    "version": 3
   },
   "file_extension": ".py",
   "mimetype": "text/x-python",
   "name": "python",
   "nbconvert_exporter": "python",
   "pygments_lexer": "ipython3",
   "version": "3.12.7"
  }
 },
 "nbformat": 4,
 "nbformat_minor": 5
}
